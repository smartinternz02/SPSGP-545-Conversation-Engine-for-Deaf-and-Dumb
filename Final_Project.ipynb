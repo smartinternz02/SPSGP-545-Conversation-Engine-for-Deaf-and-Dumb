{
 "cells": [
  {
   "cell_type": "code",
   "execution_count": 1,
   "metadata": {},
   "outputs": [
    {
     "name": "stderr",
     "output_type": "stream",
     "text": [
      "Using TensorFlow backend.\n"
     ]
    }
   ],
   "source": [
    "from keras.models import Sequential\n",
    "from keras.layers import Dense\n",
    "from keras.layers import Convolution2D\n",
    "from keras.layers import MaxPooling2D\n",
    "from keras.layers import Flatten\n",
    "from keras.layers import Dropout"
   ]
  },
  {
   "cell_type": "code",
   "execution_count": 2,
   "metadata": {},
   "outputs": [],
   "source": [
    "from keras.preprocessing.image import ImageDataGenerator\n",
    "train_datagen = ImageDataGenerator(rescale=1./255, shear_range=0.2, zoom_range=0.2, horizontal_flip=True)\n",
    "test_datagen = ImageDataGenerator(rescale=1./255)"
   ]
  },
  {
   "cell_type": "code",
   "execution_count": 3,
   "metadata": {},
   "outputs": [
    {
     "name": "stdout",
     "output_type": "stream",
     "text": [
      "Found 15750 images belonging to 9 classes.\n",
      "Found 2250 images belonging to 9 classes.\n"
     ]
    }
   ],
   "source": [
    "x_train = train_datagen.flow_from_directory(r\"D:\\Project\\Dataset\\training_set\", target_size=(64,64), batch_size=300, class_mode='categorical', color_mode=\"grayscale\")\n",
    "x_test = test_datagen.flow_from_directory(r\"D:\\Project\\Dataset\\test_set\",target_size=(64,64), batch_size=300, class_mode='categorical', color_mode=\"grayscale\")"
   ]
  },
  {
   "cell_type": "code",
   "execution_count": 4,
   "metadata": {},
   "outputs": [],
   "source": [
    "#initializing the model object\n",
    "model = Sequential()\n",
    "\n"
   ]
  },
  {
   "cell_type": "code",
   "execution_count": 5,
   "metadata": {},
   "outputs": [],
   "source": [
    "#Adding The Convolutional Layer\n",
    "#no. of feature detectors, size of featuredetector, image size, activation function\n",
    "model.add(Convolution2D(32, (3,3), input_shape=(64,64,1), activation = 'relu'))\n",
    "\n",
    "\n",
    "#Adding The Maxpooling layer \n",
    "model.add(MaxPooling2D(pool_size=(2,2)))\n",
    "\n",
    "model.add(Dropout(0.25))\n",
    "\n",
    "\n",
    "\n"
   ]
  },
  {
   "cell_type": "code",
   "execution_count": 6,
   "metadata": {},
   "outputs": [],
   "source": [
    "model.add(Convolution2D(64, (3,3), input_shape=(64,64,1), activation = 'relu'))\n",
    "\n",
    "model.add(MaxPooling2D(pool_size=(2,2)))\n",
    "\n",
    "model.add(Dropout(0.25))"
   ]
  },
  {
   "cell_type": "code",
   "execution_count": 7,
   "metadata": {},
   "outputs": [],
   "source": [
    "model.add(Convolution2D(128, (3,3), input_shape=(64,64,1), activation = 'relu'))\n",
    "\n",
    "\n",
    "model.add(MaxPooling2D(pool_size=(2,2)))\n",
    "\n",
    "model.add(Dropout(0.25))"
   ]
  },
  {
   "cell_type": "code",
   "execution_count": 8,
   "metadata": {},
   "outputs": [],
   "source": [
    "#Adding The Flattening layer \n",
    "model.add(Flatten())\n",
    "\n",
    "#Adding The Dense Layers\n",
    "model.add(Dense(units=512, activation='relu'))\n",
    "\n",
    "#Adding The Output Layers\n",
    "model.add(Dense(units=9,activation='softmax'))"
   ]
  },
  {
   "cell_type": "code",
   "execution_count": 9,
   "metadata": {},
   "outputs": [],
   "source": [
    "#Compile The Model\n",
    "model.compile(optimizer='adam', loss='categorical_crossentropy', metrics=['accuracy'])\n",
    "\n"
   ]
  },
  {
   "cell_type": "code",
   "execution_count": 10,
   "metadata": {},
   "outputs": [
    {
     "name": "stdout",
     "output_type": "stream",
     "text": [
      "Epoch 1/10\n",
      "24/24 [==============================] - 76s 3s/step - loss: 1.2637 - accuracy: 0.5521 - val_loss: 0.5979 - val_accuracy: 0.8800\n",
      "Epoch 2/10\n",
      "24/24 [==============================] - 66s 3s/step - loss: 0.3155 - accuracy: 0.9065 - val_loss: 0.1389 - val_accuracy: 0.9431\n",
      "Epoch 3/10\n",
      "24/24 [==============================] - 35s 1s/step - loss: 0.1291 - accuracy: 0.9553 - val_loss: 0.1888 - val_accuracy: 0.9636\n",
      "Epoch 4/10\n",
      "24/24 [==============================] - 31s 1s/step - loss: 0.0655 - accuracy: 0.9808 - val_loss: 0.0805 - val_accuracy: 0.9733\n",
      "Epoch 5/10\n",
      "24/24 [==============================] - 31s 1s/step - loss: 0.0467 - accuracy: 0.9857 - val_loss: 0.0456 - val_accuracy: 0.9720\n",
      "Epoch 6/10\n",
      "24/24 [==============================] - 32s 1s/step - loss: 0.0352 - accuracy: 0.9885 - val_loss: 0.0548 - val_accuracy: 0.9778\n",
      "Epoch 7/10\n",
      "24/24 [==============================] - 31s 1s/step - loss: 0.0295 - accuracy: 0.9889 - val_loss: 0.1146 - val_accuracy: 0.9831\n",
      "Epoch 8/10\n",
      "24/24 [==============================] - 31s 1s/step - loss: 0.0225 - accuracy: 0.9928 - val_loss: 0.2218 - val_accuracy: 0.9782\n",
      "Epoch 9/10\n",
      "24/24 [==============================] - 31s 1s/step - loss: 0.0160 - accuracy: 0.9950 - val_loss: 0.0107 - val_accuracy: 0.9733\n",
      "Epoch 10/10\n",
      "24/24 [==============================] - 30s 1s/step - loss: 0.0131 - accuracy: 0.9953 - val_loss: 0.2739 - val_accuracy: 0.9782\n"
     ]
    },
    {
     "data": {
      "text/plain": [
       "<keras.callbacks.callbacks.History at 0x1d8f6164d48>"
      ]
     },
     "execution_count": 10,
     "metadata": {},
     "output_type": "execute_result"
    }
   ],
   "source": [
    "model.fit_generator(x_train, steps_per_epoch= 24 , epochs=10, validation_data=x_test, validation_steps=40)"
   ]
  },
  {
   "cell_type": "code",
   "execution_count": 11,
   "metadata": {},
   "outputs": [],
   "source": [
    "model.save('aslpng1.h5')"
   ]
  },
  {
   "cell_type": "code",
   "execution_count": null,
   "metadata": {},
   "outputs": [],
   "source": []
  }
 ],
 "metadata": {
  "kernelspec": {
   "display_name": "Python 3",
   "language": "python",
   "name": "python3"
  },
  "language_info": {
   "codemirror_mode": {
    "name": "ipython",
    "version": 3
   },
   "file_extension": ".py",
   "mimetype": "text/x-python",
   "name": "python",
   "nbconvert_exporter": "python",
   "pygments_lexer": "ipython3",
   "version": "3.7.4"
  }
 },
 "nbformat": 4,
 "nbformat_minor": 2
}
